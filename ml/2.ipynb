{
 "cells": [
  {
   "cell_type": "code",
   "execution_count": 4,
   "metadata": {},
   "outputs": [],
   "source": [
    "import pandas as pd\n",
    "import numpy as np\n",
    "from sklearn.feature_extraction.text import CountVectorizer\n",
    "from sklearn.metrics.pairwise import cosine_similarity\n",
    "\n",
    "\n",
    "def to_dataframe():\n",
    "    index = []\n",
    "    title = []\n",
    "    genre = []\n",
    "    album = []\n",
    "\n",
    "    dict = {\n",
    "        'index': index,\n",
    "        'title': title,\n",
    "        'genre': genre,\n",
    "        'album': album,\n",
    "        }\n",
    "\n",
    "    df = pd.DataFrame(dict)\n",
    "    df = pd.read_csv(r\"top10s.csv\", encoding=\"ISO-8859-1\")\n",
    "    return df\n",
    "\n",
    "def combined_features(row):\n",
    "        return row['title']+\" \"+row['artist']+\" \"+row['top genre']\n",
    "\n",
    "def get_count_matrix(df):\n",
    "    features = ['title', 'artist', 'top genre']\n",
    "    for feature in features:\n",
    "        df[feature] = df[feature].fillna('')\n",
    "\n",
    "    df[\"combined_features\"] = df.apply(combined_features, axis =1)\n",
    "\n",
    "    cv = CountVectorizer()\n",
    "    count_matrix = cv.fit_transform(df[\"combined_features\"])\n",
    "\n",
    "    cosine_sim = cosine_similarity(count_matrix)\n",
    "    return cosine_sim\n",
    "\n",
    "def get_index_from_title(title, df):\n",
    "    return df[df.title == title][\"index\"].values[0]\n",
    "\n",
    "\n",
    "def get_title_from_index(index, df):\n",
    "    dict = {\n",
    "        \"id\": df[df.index == index][\"index\"].values[0],\n",
    "        \"title\": df[df.index == index][\"title\"].values[0],\n",
    "        \"artist\": df[df.index == index][\"artist\"].values[0],\n",
    "        \"top genre\": df[df.index == index][\"top genre\"].values[0]\n",
    "    }\n",
    "    return dict\n",
    "\n",
    "def get_reccomendation():\n",
    "    df = to_dataframe()\n",
    "    cosine_sim = get_count_matrix(df)\n",
    "    \n",
    "    track_user_likes = \"Hey, Soul Sister\"\n",
    "    track_index = get_index_from_title(track_user_likes, df)\n",
    "    similar_tracks = list(enumerate(cosine_sim[track_index]))\n",
    "    sorted_similar_tracks = sorted(similar_tracks, key=lambda x:x[1], reverse=True)\n",
    "    \n",
    "    i=0\n",
    "    for movie in sorted_similar_tracks:\n",
    "        print(get_title_from_index(movie[0], df))\n",
    "        i=i+1\n",
    "        if i>15:\n",
    "            break"
   ]
  },
  {
   "cell_type": "code",
   "execution_count": 5,
   "metadata": {},
   "outputs": [
    {
     "name": "stdout",
     "output_type": "stream",
     "text": [
      "{'id': 2, 'title': 'Love The Way You Lie', 'artist': 'Eminem', 'top genre': 'detroit hip hop'}\n",
      "{'id': 560, 'title': 'Walk On Water (feat. Beyoncï¿½)', 'artist': 'Eminem', 'top genre': 'detroit hip hop'}\n",
      "{'id': 552, 'title': 'Lemon', 'artist': 'N.E.R.D', 'top genre': 'hip hop'}\n",
      "{'id': 112, 'title': 'Love You Like A Love Song', 'artist': 'Selena Gomez & The Scene', 'top genre': 'dance pop'}\n",
      "{'id': 5, 'title': 'Just the Way You Are', 'artist': 'Bruno Mars', 'top genre': 'pop'}\n",
      "{'id': 55, 'title': 'Just the Way You Are', 'artist': 'Bruno Mars', 'top genre': 'pop'}\n",
      "{'id': 340, 'title': 'See You Again (feat. Charlie Puth)', 'artist': 'Wiz Khalifa', 'top genre': 'hip hop'}\n",
      "{'id': 169, 'title': 'Let Me Love You (Until You Learn To Love Yourself)', 'artist': 'Ne-Yo', 'top genre': 'dance pop'}\n",
      "{'id': 380, 'title': 'Me, Myself & I', 'artist': 'G-Eazy', 'top genre': 'hip hop'}\n",
      "{'id': 48, 'title': \"DJ Got Us Fallin' In Love (feat. Pitbull)\", 'artist': 'Usher', 'top genre': 'atl hip hop'}\n",
      "{'id': 172, 'title': 'The Way', 'artist': 'Ariana Grande', 'top genre': 'dance pop'}\n",
      "{'id': 210, 'title': 'Freak', 'artist': 'Kelly Rowland', 'top genre': 'atl hip hop'}\n",
      "{'id': 231, 'title': 'Fancy', 'artist': 'Iggy Azalea', 'top genre': 'australian hip hop'}\n",
      "{'id': 387, 'title': 'Too Good', 'artist': 'Drake', 'top genre': 'canadian hip hop'}\n",
      "{'id': 531, 'title': 'Him & I (with Halsey)', 'artist': 'G-Eazy', 'top genre': 'hip hop'}\n",
      "{'id': 594, 'title': 'Call You Mine', 'artist': 'The Chainsmokers', 'top genre': 'electropop'}\n"
     ]
    }
   ],
   "source": [
    "get_reccomendation()"
   ]
  }
 ],
 "metadata": {
  "interpreter": {
   "hash": "ec6fcd0d954e6ca46cf384a91884463a197fa8108f456de8ac792d8ea64e5935"
  },
  "kernelspec": {
   "display_name": "Python 3.10.0 ('venv')",
   "language": "python",
   "name": "python3"
  },
  "language_info": {
   "codemirror_mode": {
    "name": "ipython",
    "version": 3
   },
   "file_extension": ".py",
   "mimetype": "text/x-python",
   "name": "python",
   "nbconvert_exporter": "python",
   "pygments_lexer": "ipython3",
   "version": "3.10.0"
  },
  "orig_nbformat": 4
 },
 "nbformat": 4,
 "nbformat_minor": 2
}
